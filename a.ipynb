{
 "cells": [
  {
   "cell_type": "code",
   "execution_count": 153,
   "metadata": {},
   "outputs": [
    {
     "name": "stdout",
     "output_type": "stream",
     "text": [
      "{'name': '우진', 'prob': 10}\n"
     ]
    }
   ],
   "source": [
    "import random\n",
    "\n",
    "item = [\n",
    "    {\n",
    "        \"name\": \"우진\",\n",
    "        \"prob\": 10\n",
    "    },\n",
    "    {\n",
    "        \"name\": \"우진2\",\n",
    "        \"prob\": 20\n",
    "    },\n",
    "    {\n",
    "        \"name\": \"우진 레전드\",\n",
    "        \"prob\": 1\n",
    "    },\n",
    "]\n",
    "\n",
    "item_box = []\n",
    "for i in item:\n",
    "    kakao = [i] * i['prob']\n",
    "    item_box += kakao\n",
    "\n",
    "result = random.choice(item_box)\n",
    "print(result)\n"
   ]
  },
  {
   "cell_type": "code",
   "execution_count": 3,
   "metadata": {},
   "outputs": [
    {
     "name": "stdout",
     "output_type": "stream",
     "text": [
      "34\n"
     ]
    }
   ],
   "source": [
    "print(27 * 1000 % 97)"
   ]
  }
 ],
 "metadata": {
  "kernelspec": {
   "display_name": "Python 3",
   "language": "python",
   "name": "python3"
  },
  "language_info": {
   "codemirror_mode": {
    "name": "ipython",
    "version": 3
   },
   "file_extension": ".py",
   "mimetype": "text/x-python",
   "name": "python",
   "nbconvert_exporter": "python",
   "pygments_lexer": "ipython3",
   "version": "3.11.6"
  }
 },
 "nbformat": 4,
 "nbformat_minor": 2
}
