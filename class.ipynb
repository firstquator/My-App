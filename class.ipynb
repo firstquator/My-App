{
 "cells": [
  {
   "cell_type": "code",
   "execution_count": 6,
   "metadata": {},
   "outputs": [
    {
     "name": "stdout",
     "output_type": "stream",
     "text": [
      "1\n",
      "0\n"
     ]
    }
   ],
   "source": [
    "# 환경 설정 관리\n",
    "class Player:\n",
    "    count = 0\n",
    "\n",
    "    def __init__(self, max_hp=100):\n",
    "        self.max_hp = max_hp\n",
    "\n",
    "player1 = Player(150)\n",
    "player2 = Player(200)\n",
    "\n",
    "\n",
    "player1.count += 1\n",
    "print(player1.count)\n",
    "print(player2.count)"
   ]
  }
 ],
 "metadata": {
  "language_info": {
   "name": "python"
  }
 },
 "nbformat": 4,
 "nbformat_minor": 2
}
